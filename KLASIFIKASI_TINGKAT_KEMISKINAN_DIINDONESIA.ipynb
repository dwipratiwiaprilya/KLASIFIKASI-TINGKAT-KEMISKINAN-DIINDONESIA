{
  "nbformat": 4,
  "nbformat_minor": 0,
  "metadata": {
    "colab": {
      "provenance": [],
      "authorship_tag": "ABX9TyOGDSlX6+WA2PXb0aCC3fYx",
      "include_colab_link": true
    },
    "kernelspec": {
      "name": "python3",
      "display_name": "Python 3"
    },
    "language_info": {
      "name": "python"
    }
  },
  "cells": [
    {
      "cell_type": "markdown",
      "metadata": {
        "id": "view-in-github",
        "colab_type": "text"
      },
      "source": [
        "<a href=\"https://colab.research.google.com/github/dwipratiwiaprilya/KLASIFIKASI-TINGKAT-KEMISKINAN-DIINDONESIA/blob/main/KLASIFIKASI_TINGKAT_KEMISKINAN_DIINDONESIA.ipynb\" target=\"_parent\"><img src=\"https://colab.research.google.com/assets/colab-badge.svg\" alt=\"Open In Colab\"/></a>"
      ]
    },
    {
      "cell_type": "markdown",
      "source": [
        "KLASIFIKASI TINGKAT KEMISKINAN DI INDONESIA MENGGUNAKAN DECISION TREE\n",
        "\n",
        "\n",
        "Program ini menggunakan pohon keputusan (decision tree) untuk mengklasifikasikan data. Pohon keputusan adalah model pembelajaran mesin yang digunakan untuk tugas klasifikasi dan regresi. Dalam konteks ini, program menggunakan pohon keputusan untuk melakukan klasifikasi terhadap tingkat kemiskinan di berbagai kabupaten/kota di Indonesia.\n",
        "\n",
        "\n",
        "Program ini bertujuan untuk melakukan klasifikasi terhadap tingkat kemiskinan di berbagai daerah berdasarkan serangkaian fitur atau atribut yang terkait dengan kondisi sosial dan ekonomi setiap daerah. Fitur-fitur yang digunakan mencakup berbagai variabel seperti rata-rata lama sekolah penduduk, pengeluaran per kapita, indeks pembangunan manusia, umur harapan hidup, persentase rumah tangga yang memiliki akses terhadap sanitasi dan air minum layak, tingkat pengangguran, tingkat partisipasi angkatan kerja, dan PDRB (Produk Domestik Regional Bruto). Jika persentasenya lebih dari 20, akan diberi label 1, dan jika tidak, akan diberi label 0. Hal ini membuat masalah klasifikasi menjadi masalah klasifikasi biner, di mana model akan memprediksi apakah persentase penduduk miskin di suatu daerah akan lebih dari 20% atau tidak."
      ],
      "metadata": {
        "id": "_5r_0ntuQtE3"
      }
    },
    {
      "cell_type": "markdown",
      "source": [
        "Membaca file CSV yang berisi data tentang tingkat kemiskinan di Indonesia ke dalam sebuah DataFrame menggunakan pustaka pandas  yang disimpan dalam variabel kemiskinan dan argumen delimiter=';' digunakan untuk menentukan pemisah kolom dalam file CSV\n",
        "\n",
        "\n",
        "\n",
        "\n"
      ],
      "metadata": {
        "id": "dgQo_OeIRzUl"
      }
    },
    {
      "cell_type": "code",
      "execution_count": 44,
      "metadata": {
        "id": "G1YfRiC5FInn"
      },
      "outputs": [],
      "source": [
        "import pandas as pd\n",
        "kemiskinan= pd.read_csv('/content/Klasifikasi Tingkat Kemiskinan di Indonesia.csv',delimiter=';')"
      ]
    },
    {
      "cell_type": "markdown",
      "source": [
        "Mengetahui type data untuk setiap variabel yang digunakan"
      ],
      "metadata": {
        "id": "C75CLrARSQWH"
      }
    },
    {
      "cell_type": "code",
      "source": [
        "kemiskinan.info()"
      ],
      "metadata": {
        "colab": {
          "base_uri": "https://localhost:8080/"
        },
        "id": "MGnS0AgzOSqB",
        "outputId": "93fc1b2e-5dd9-4e8d-fe5d-54f92d07821e"
      },
      "execution_count": 45,
      "outputs": [
        {
          "output_type": "stream",
          "name": "stdout",
          "text": [
            "<class 'pandas.core.frame.DataFrame'>\n",
            "RangeIndex: 999 entries, 0 to 998\n",
            "Data columns (total 13 columns):\n",
            " #   Column                                                                Non-Null Count  Dtype  \n",
            "---  ------                                                                --------------  -----  \n",
            " 0   Provinsi                                                              514 non-null    object \n",
            " 1   Kab/Kota                                                              514 non-null    object \n",
            " 2   Persentase Penduduk Miskin (P0) Menurut Kabupaten/Kota (Persen)       514 non-null    object \n",
            " 3   Rata-rata Lama Sekolah Penduduk 15+ (Tahun)                           514 non-null    object \n",
            " 4   Pengeluaran per Kapita Disesuaikan (Ribu Rupiah/Orang/Tahun)          514 non-null    float64\n",
            " 5   Indeks Pembangunan Manusia                                            514 non-null    object \n",
            " 6   Umur Harapan Hidup (Tahun)                                            514 non-null    object \n",
            " 7   Persentase rumah tangga yang memiliki akses terhadap sanitasi layak   514 non-null    object \n",
            " 8   Persentase rumah tangga yang memiliki akses terhadap air minum layak  514 non-null    object \n",
            " 9   Tingkat Pengangguran Terbuka                                          514 non-null    object \n",
            " 10  Tingkat Partisipasi Angkatan Kerja                                    514 non-null    object \n",
            " 11  PDRB atas Dasar Harga Konstan menurut Pengeluaran (Rupiah)            514 non-null    float64\n",
            " 12  Klasifikasi Kemiskinan                                                514 non-null    float64\n",
            "dtypes: float64(3), object(10)\n",
            "memory usage: 101.6+ KB\n"
          ]
        }
      ]
    },
    {
      "cell_type": "markdown",
      "source": [
        "Menampilkan lima baris teratas"
      ],
      "metadata": {
        "id": "FcJQnc3HSc9K"
      }
    },
    {
      "cell_type": "code",
      "source": [
        "kemiskinan.head()"
      ],
      "metadata": {
        "colab": {
          "base_uri": "https://localhost:8080/",
          "height": 434
        },
        "id": "x1EEWPtbOYB3",
        "outputId": "376418c9-25ad-42f4-81ed-e6012fbffa57"
      },
      "execution_count": 46,
      "outputs": [
        {
          "output_type": "execute_result",
          "data": {
            "text/plain": [
              "  Provinsi       Kab/Kota  \\\n",
              "0     ACEH       Simeulue   \n",
              "1     ACEH   Aceh Singkil   \n",
              "2     ACEH   Aceh Selatan   \n",
              "3     ACEH  Aceh Tenggara   \n",
              "4     ACEH     Aceh Timur   \n",
              "\n",
              "  Persentase Penduduk Miskin (P0) Menurut Kabupaten/Kota (Persen)  \\\n",
              "0                                              18,98                \n",
              "1                                              20,36                \n",
              "2                                              13,18                \n",
              "3                                              13,41                \n",
              "4                                              14,45                \n",
              "\n",
              "  Rata-rata Lama Sekolah Penduduk 15+ (Tahun)  \\\n",
              "0                                        9,48   \n",
              "1                                        8,68   \n",
              "2                                        8,88   \n",
              "3                                        9,67   \n",
              "4                                        8,21   \n",
              "\n",
              "   Pengeluaran per Kapita Disesuaikan (Ribu Rupiah/Orang/Tahun)  \\\n",
              "0                                             7148.0              \n",
              "1                                             8776.0              \n",
              "2                                             8180.0              \n",
              "3                                             8030.0              \n",
              "4                                             8577.0              \n",
              "\n",
              "  Indeks Pembangunan Manusia Umur Harapan Hidup (Tahun)  \\\n",
              "0                      66,41                      65,28   \n",
              "1                      69,22                      67,43   \n",
              "2                      67,44                       64,4   \n",
              "3                      69,44                      68,22   \n",
              "4                      67,83                      68,74   \n",
              "\n",
              "  Persentase rumah tangga yang memiliki akses terhadap sanitasi layak  \\\n",
              "0                                              71,56                    \n",
              "1                                              69,56                    \n",
              "2                                              62,55                    \n",
              "3                                              62,71                    \n",
              "4                                              66,75                    \n",
              "\n",
              "  Persentase rumah tangga yang memiliki akses terhadap air minum layak  \\\n",
              "0                                              87,45                     \n",
              "1                                              78,58                     \n",
              "2                                              79,65                     \n",
              "3                                              86,71                     \n",
              "4                                              83,16                     \n",
              "\n",
              "  Tingkat Pengangguran Terbuka Tingkat Partisipasi Angkatan Kerja  \\\n",
              "0                         5,71                             71,15    \n",
              "1                         8,36                             62,85    \n",
              "2                         6,46                             60,85    \n",
              "3                         6,43                             69,62    \n",
              "4                         7,13                             59,48    \n",
              "\n",
              "   PDRB atas Dasar Harga Konstan menurut Pengeluaran (Rupiah)  \\\n",
              "0                                          1648096.0            \n",
              "1                                          1780419.0            \n",
              "2                                          4345784.0            \n",
              "3                                          3487157.0            \n",
              "4                                          8433526.0            \n",
              "\n",
              "   Klasifikasi Kemiskinan  \n",
              "0                     0.0  \n",
              "1                     1.0  \n",
              "2                     0.0  \n",
              "3                     0.0  \n",
              "4                     0.0  "
            ],
            "text/html": [
              "\n",
              "  <div id=\"df-034c7255-bac1-4570-82d3-d983fe5b396d\" class=\"colab-df-container\">\n",
              "    <div>\n",
              "<style scoped>\n",
              "    .dataframe tbody tr th:only-of-type {\n",
              "        vertical-align: middle;\n",
              "    }\n",
              "\n",
              "    .dataframe tbody tr th {\n",
              "        vertical-align: top;\n",
              "    }\n",
              "\n",
              "    .dataframe thead th {\n",
              "        text-align: right;\n",
              "    }\n",
              "</style>\n",
              "<table border=\"1\" class=\"dataframe\">\n",
              "  <thead>\n",
              "    <tr style=\"text-align: right;\">\n",
              "      <th></th>\n",
              "      <th>Provinsi</th>\n",
              "      <th>Kab/Kota</th>\n",
              "      <th>Persentase Penduduk Miskin (P0) Menurut Kabupaten/Kota (Persen)</th>\n",
              "      <th>Rata-rata Lama Sekolah Penduduk 15+ (Tahun)</th>\n",
              "      <th>Pengeluaran per Kapita Disesuaikan (Ribu Rupiah/Orang/Tahun)</th>\n",
              "      <th>Indeks Pembangunan Manusia</th>\n",
              "      <th>Umur Harapan Hidup (Tahun)</th>\n",
              "      <th>Persentase rumah tangga yang memiliki akses terhadap sanitasi layak</th>\n",
              "      <th>Persentase rumah tangga yang memiliki akses terhadap air minum layak</th>\n",
              "      <th>Tingkat Pengangguran Terbuka</th>\n",
              "      <th>Tingkat Partisipasi Angkatan Kerja</th>\n",
              "      <th>PDRB atas Dasar Harga Konstan menurut Pengeluaran (Rupiah)</th>\n",
              "      <th>Klasifikasi Kemiskinan</th>\n",
              "    </tr>\n",
              "  </thead>\n",
              "  <tbody>\n",
              "    <tr>\n",
              "      <th>0</th>\n",
              "      <td>ACEH</td>\n",
              "      <td>Simeulue</td>\n",
              "      <td>18,98</td>\n",
              "      <td>9,48</td>\n",
              "      <td>7148.0</td>\n",
              "      <td>66,41</td>\n",
              "      <td>65,28</td>\n",
              "      <td>71,56</td>\n",
              "      <td>87,45</td>\n",
              "      <td>5,71</td>\n",
              "      <td>71,15</td>\n",
              "      <td>1648096.0</td>\n",
              "      <td>0.0</td>\n",
              "    </tr>\n",
              "    <tr>\n",
              "      <th>1</th>\n",
              "      <td>ACEH</td>\n",
              "      <td>Aceh Singkil</td>\n",
              "      <td>20,36</td>\n",
              "      <td>8,68</td>\n",
              "      <td>8776.0</td>\n",
              "      <td>69,22</td>\n",
              "      <td>67,43</td>\n",
              "      <td>69,56</td>\n",
              "      <td>78,58</td>\n",
              "      <td>8,36</td>\n",
              "      <td>62,85</td>\n",
              "      <td>1780419.0</td>\n",
              "      <td>1.0</td>\n",
              "    </tr>\n",
              "    <tr>\n",
              "      <th>2</th>\n",
              "      <td>ACEH</td>\n",
              "      <td>Aceh Selatan</td>\n",
              "      <td>13,18</td>\n",
              "      <td>8,88</td>\n",
              "      <td>8180.0</td>\n",
              "      <td>67,44</td>\n",
              "      <td>64,4</td>\n",
              "      <td>62,55</td>\n",
              "      <td>79,65</td>\n",
              "      <td>6,46</td>\n",
              "      <td>60,85</td>\n",
              "      <td>4345784.0</td>\n",
              "      <td>0.0</td>\n",
              "    </tr>\n",
              "    <tr>\n",
              "      <th>3</th>\n",
              "      <td>ACEH</td>\n",
              "      <td>Aceh Tenggara</td>\n",
              "      <td>13,41</td>\n",
              "      <td>9,67</td>\n",
              "      <td>8030.0</td>\n",
              "      <td>69,44</td>\n",
              "      <td>68,22</td>\n",
              "      <td>62,71</td>\n",
              "      <td>86,71</td>\n",
              "      <td>6,43</td>\n",
              "      <td>69,62</td>\n",
              "      <td>3487157.0</td>\n",
              "      <td>0.0</td>\n",
              "    </tr>\n",
              "    <tr>\n",
              "      <th>4</th>\n",
              "      <td>ACEH</td>\n",
              "      <td>Aceh Timur</td>\n",
              "      <td>14,45</td>\n",
              "      <td>8,21</td>\n",
              "      <td>8577.0</td>\n",
              "      <td>67,83</td>\n",
              "      <td>68,74</td>\n",
              "      <td>66,75</td>\n",
              "      <td>83,16</td>\n",
              "      <td>7,13</td>\n",
              "      <td>59,48</td>\n",
              "      <td>8433526.0</td>\n",
              "      <td>0.0</td>\n",
              "    </tr>\n",
              "  </tbody>\n",
              "</table>\n",
              "</div>\n",
              "    <div class=\"colab-df-buttons\">\n",
              "\n",
              "  <div class=\"colab-df-container\">\n",
              "    <button class=\"colab-df-convert\" onclick=\"convertToInteractive('df-034c7255-bac1-4570-82d3-d983fe5b396d')\"\n",
              "            title=\"Convert this dataframe to an interactive table.\"\n",
              "            style=\"display:none;\">\n",
              "\n",
              "  <svg xmlns=\"http://www.w3.org/2000/svg\" height=\"24px\" viewBox=\"0 -960 960 960\">\n",
              "    <path d=\"M120-120v-720h720v720H120Zm60-500h600v-160H180v160Zm220 220h160v-160H400v160Zm0 220h160v-160H400v160ZM180-400h160v-160H180v160Zm440 0h160v-160H620v160ZM180-180h160v-160H180v160Zm440 0h160v-160H620v160Z\"/>\n",
              "  </svg>\n",
              "    </button>\n",
              "\n",
              "  <style>\n",
              "    .colab-df-container {\n",
              "      display:flex;\n",
              "      gap: 12px;\n",
              "    }\n",
              "\n",
              "    .colab-df-convert {\n",
              "      background-color: #E8F0FE;\n",
              "      border: none;\n",
              "      border-radius: 50%;\n",
              "      cursor: pointer;\n",
              "      display: none;\n",
              "      fill: #1967D2;\n",
              "      height: 32px;\n",
              "      padding: 0 0 0 0;\n",
              "      width: 32px;\n",
              "    }\n",
              "\n",
              "    .colab-df-convert:hover {\n",
              "      background-color: #E2EBFA;\n",
              "      box-shadow: 0px 1px 2px rgba(60, 64, 67, 0.3), 0px 1px 3px 1px rgba(60, 64, 67, 0.15);\n",
              "      fill: #174EA6;\n",
              "    }\n",
              "\n",
              "    .colab-df-buttons div {\n",
              "      margin-bottom: 4px;\n",
              "    }\n",
              "\n",
              "    [theme=dark] .colab-df-convert {\n",
              "      background-color: #3B4455;\n",
              "      fill: #D2E3FC;\n",
              "    }\n",
              "\n",
              "    [theme=dark] .colab-df-convert:hover {\n",
              "      background-color: #434B5C;\n",
              "      box-shadow: 0px 1px 3px 1px rgba(0, 0, 0, 0.15);\n",
              "      filter: drop-shadow(0px 1px 2px rgba(0, 0, 0, 0.3));\n",
              "      fill: #FFFFFF;\n",
              "    }\n",
              "  </style>\n",
              "\n",
              "    <script>\n",
              "      const buttonEl =\n",
              "        document.querySelector('#df-034c7255-bac1-4570-82d3-d983fe5b396d button.colab-df-convert');\n",
              "      buttonEl.style.display =\n",
              "        google.colab.kernel.accessAllowed ? 'block' : 'none';\n",
              "\n",
              "      async function convertToInteractive(key) {\n",
              "        const element = document.querySelector('#df-034c7255-bac1-4570-82d3-d983fe5b396d');\n",
              "        const dataTable =\n",
              "          await google.colab.kernel.invokeFunction('convertToInteractive',\n",
              "                                                    [key], {});\n",
              "        if (!dataTable) return;\n",
              "\n",
              "        const docLinkHtml = 'Like what you see? Visit the ' +\n",
              "          '<a target=\"_blank\" href=https://colab.research.google.com/notebooks/data_table.ipynb>data table notebook</a>'\n",
              "          + ' to learn more about interactive tables.';\n",
              "        element.innerHTML = '';\n",
              "        dataTable['output_type'] = 'display_data';\n",
              "        await google.colab.output.renderOutput(dataTable, element);\n",
              "        const docLink = document.createElement('div');\n",
              "        docLink.innerHTML = docLinkHtml;\n",
              "        element.appendChild(docLink);\n",
              "      }\n",
              "    </script>\n",
              "  </div>\n",
              "\n",
              "\n",
              "<div id=\"df-eda45a02-482f-4aa0-8344-4283d73dd6c4\">\n",
              "  <button class=\"colab-df-quickchart\" onclick=\"quickchart('df-eda45a02-482f-4aa0-8344-4283d73dd6c4')\"\n",
              "            title=\"Suggest charts\"\n",
              "            style=\"display:none;\">\n",
              "\n",
              "<svg xmlns=\"http://www.w3.org/2000/svg\" height=\"24px\"viewBox=\"0 0 24 24\"\n",
              "     width=\"24px\">\n",
              "    <g>\n",
              "        <path d=\"M19 3H5c-1.1 0-2 .9-2 2v14c0 1.1.9 2 2 2h14c1.1 0 2-.9 2-2V5c0-1.1-.9-2-2-2zM9 17H7v-7h2v7zm4 0h-2V7h2v10zm4 0h-2v-4h2v4z\"/>\n",
              "    </g>\n",
              "</svg>\n",
              "  </button>\n",
              "\n",
              "<style>\n",
              "  .colab-df-quickchart {\n",
              "      --bg-color: #E8F0FE;\n",
              "      --fill-color: #1967D2;\n",
              "      --hover-bg-color: #E2EBFA;\n",
              "      --hover-fill-color: #174EA6;\n",
              "      --disabled-fill-color: #AAA;\n",
              "      --disabled-bg-color: #DDD;\n",
              "  }\n",
              "\n",
              "  [theme=dark] .colab-df-quickchart {\n",
              "      --bg-color: #3B4455;\n",
              "      --fill-color: #D2E3FC;\n",
              "      --hover-bg-color: #434B5C;\n",
              "      --hover-fill-color: #FFFFFF;\n",
              "      --disabled-bg-color: #3B4455;\n",
              "      --disabled-fill-color: #666;\n",
              "  }\n",
              "\n",
              "  .colab-df-quickchart {\n",
              "    background-color: var(--bg-color);\n",
              "    border: none;\n",
              "    border-radius: 50%;\n",
              "    cursor: pointer;\n",
              "    display: none;\n",
              "    fill: var(--fill-color);\n",
              "    height: 32px;\n",
              "    padding: 0;\n",
              "    width: 32px;\n",
              "  }\n",
              "\n",
              "  .colab-df-quickchart:hover {\n",
              "    background-color: var(--hover-bg-color);\n",
              "    box-shadow: 0 1px 2px rgba(60, 64, 67, 0.3), 0 1px 3px 1px rgba(60, 64, 67, 0.15);\n",
              "    fill: var(--button-hover-fill-color);\n",
              "  }\n",
              "\n",
              "  .colab-df-quickchart-complete:disabled,\n",
              "  .colab-df-quickchart-complete:disabled:hover {\n",
              "    background-color: var(--disabled-bg-color);\n",
              "    fill: var(--disabled-fill-color);\n",
              "    box-shadow: none;\n",
              "  }\n",
              "\n",
              "  .colab-df-spinner {\n",
              "    border: 2px solid var(--fill-color);\n",
              "    border-color: transparent;\n",
              "    border-bottom-color: var(--fill-color);\n",
              "    animation:\n",
              "      spin 1s steps(1) infinite;\n",
              "  }\n",
              "\n",
              "  @keyframes spin {\n",
              "    0% {\n",
              "      border-color: transparent;\n",
              "      border-bottom-color: var(--fill-color);\n",
              "      border-left-color: var(--fill-color);\n",
              "    }\n",
              "    20% {\n",
              "      border-color: transparent;\n",
              "      border-left-color: var(--fill-color);\n",
              "      border-top-color: var(--fill-color);\n",
              "    }\n",
              "    30% {\n",
              "      border-color: transparent;\n",
              "      border-left-color: var(--fill-color);\n",
              "      border-top-color: var(--fill-color);\n",
              "      border-right-color: var(--fill-color);\n",
              "    }\n",
              "    40% {\n",
              "      border-color: transparent;\n",
              "      border-right-color: var(--fill-color);\n",
              "      border-top-color: var(--fill-color);\n",
              "    }\n",
              "    60% {\n",
              "      border-color: transparent;\n",
              "      border-right-color: var(--fill-color);\n",
              "    }\n",
              "    80% {\n",
              "      border-color: transparent;\n",
              "      border-right-color: var(--fill-color);\n",
              "      border-bottom-color: var(--fill-color);\n",
              "    }\n",
              "    90% {\n",
              "      border-color: transparent;\n",
              "      border-bottom-color: var(--fill-color);\n",
              "    }\n",
              "  }\n",
              "</style>\n",
              "\n",
              "  <script>\n",
              "    async function quickchart(key) {\n",
              "      const quickchartButtonEl =\n",
              "        document.querySelector('#' + key + ' button');\n",
              "      quickchartButtonEl.disabled = true;  // To prevent multiple clicks.\n",
              "      quickchartButtonEl.classList.add('colab-df-spinner');\n",
              "      try {\n",
              "        const charts = await google.colab.kernel.invokeFunction(\n",
              "            'suggestCharts', [key], {});\n",
              "      } catch (error) {\n",
              "        console.error('Error during call to suggestCharts:', error);\n",
              "      }\n",
              "      quickchartButtonEl.classList.remove('colab-df-spinner');\n",
              "      quickchartButtonEl.classList.add('colab-df-quickchart-complete');\n",
              "    }\n",
              "    (() => {\n",
              "      let quickchartButtonEl =\n",
              "        document.querySelector('#df-eda45a02-482f-4aa0-8344-4283d73dd6c4 button');\n",
              "      quickchartButtonEl.style.display =\n",
              "        google.colab.kernel.accessAllowed ? 'block' : 'none';\n",
              "    })();\n",
              "  </script>\n",
              "</div>\n",
              "    </div>\n",
              "  </div>\n"
            ],
            "application/vnd.google.colaboratory.intrinsic+json": {
              "type": "dataframe",
              "variable_name": "kemiskinan",
              "summary": "{\n  \"name\": \"kemiskinan\",\n  \"rows\": 999,\n  \"fields\": [\n    {\n      \"column\": \"Provinsi\",\n      \"properties\": {\n        \"dtype\": \"category\",\n        \"num_unique_values\": 34,\n        \"samples\": [\n          \"BANTEN\",\n          \"KALIMANTAN BARAT\",\n          \"SULAWESI TENGGARA\"\n        ],\n        \"semantic_type\": \"\",\n        \"description\": \"\"\n      }\n    },\n    {\n      \"column\": \"Kab/Kota\",\n      \"properties\": {\n        \"dtype\": \"string\",\n        \"num_unique_values\": 514,\n        \"samples\": [\n          \"Manggarai\",\n          \"Yahukimo\",\n          \"Gorontalo\"\n        ],\n        \"semantic_type\": \"\",\n        \"description\": \"\"\n      }\n    },\n    {\n      \"column\": \"Persentase Penduduk Miskin (P0) Menurut Kabupaten/Kota (Persen)\",\n      \"properties\": {\n        \"dtype\": \"category\",\n        \"num_unique_values\": 452,\n        \"samples\": [\n          \"5,91\",\n          \"8,3\",\n          \"12,85\"\n        ],\n        \"semantic_type\": \"\",\n        \"description\": \"\"\n      }\n    },\n    {\n      \"column\": \"Rata-rata Lama Sekolah Penduduk 15+ (Tahun)\",\n      \"properties\": {\n        \"dtype\": \"category\",\n        \"num_unique_values\": 377,\n        \"samples\": [\n          \"10,91\",\n          \"7,12\",\n          \"6,02\"\n        ],\n        \"semantic_type\": \"\",\n        \"description\": \"\"\n      }\n    },\n    {\n      \"column\": \"Pengeluaran per Kapita Disesuaikan (Ribu Rupiah/Orang/Tahun)\",\n      \"properties\": {\n        \"dtype\": \"number\",\n        \"std\": 2717.144185738408,\n        \"min\": 3976.0,\n        \"max\": 23888.0,\n        \"num_unique_values\": 498,\n        \"samples\": [\n          5708.0,\n          13317.0,\n          9410.0\n        ],\n        \"semantic_type\": \"\",\n        \"description\": \"\"\n      }\n    },\n    {\n      \"column\": \"Indeks Pembangunan Manusia\",\n      \"properties\": {\n        \"dtype\": \"category\",\n        \"num_unique_values\": 452,\n        \"samples\": [\n          \"65,87\",\n          \"70,83\",\n          \"80,59\"\n        ],\n        \"semantic_type\": \"\",\n        \"description\": \"\"\n      }\n    },\n    {\n      \"column\": \"Umur Harapan Hidup (Tahun)\",\n      \"properties\": {\n        \"dtype\": \"category\",\n        \"num_unique_values\": 411,\n        \"samples\": [\n          \"73,8\",\n          \"71,58\",\n          \"70,38\"\n        ],\n        \"semantic_type\": \"\",\n        \"description\": \"\"\n      }\n    },\n    {\n      \"column\": \"Persentase rumah tangga yang memiliki akses terhadap sanitasi layak\",\n      \"properties\": {\n        \"dtype\": \"category\",\n        \"num_unique_values\": 487,\n        \"samples\": [\n          \"89,49\",\n          \"91,56\",\n          \"90,56\"\n        ],\n        \"semantic_type\": \"\",\n        \"description\": \"\"\n      }\n    },\n    {\n      \"column\": \"Persentase rumah tangga yang memiliki akses terhadap air minum layak\",\n      \"properties\": {\n        \"dtype\": \"category\",\n        \"num_unique_values\": 465,\n        \"samples\": [\n          \"74,11\",\n          \"85,78\",\n          \"91,43\"\n        ],\n        \"semantic_type\": \"\",\n        \"description\": \"\"\n      }\n    },\n    {\n      \"column\": \"Tingkat Pengangguran Terbuka\",\n      \"properties\": {\n        \"dtype\": \"category\",\n        \"num_unique_values\": 373,\n        \"samples\": [\n          \"4,56\",\n          \"1,95\",\n          \"3,47\"\n        ],\n        \"semantic_type\": \"\",\n        \"description\": \"\"\n      }\n    },\n    {\n      \"column\": \"Tingkat Partisipasi Angkatan Kerja\",\n      \"properties\": {\n        \"dtype\": \"object\",\n        \"num_unique_values\": 448,\n        \"samples\": [\n          \" 77,57 \",\n          \" 70,16 \",\n          \" 70,13 \"\n        ],\n        \"semantic_type\": \"\",\n        \"description\": \"\"\n      }\n    },\n    {\n      \"column\": \"PDRB atas Dasar Harga Konstan menurut Pengeluaran (Rupiah)\",\n      \"properties\": {\n        \"dtype\": \"number\",\n        \"std\": 47904920.44381926,\n        \"min\": 147485.0,\n        \"max\": 460081046.0,\n        \"num_unique_values\": 514,\n        \"samples\": [\n          3025880.0,\n          1556231.0,\n          9082312.0\n        ],\n        \"semantic_type\": \"\",\n        \"description\": \"\"\n      }\n    },\n    {\n      \"column\": \"Klasifikasi Kemiskinan\",\n      \"properties\": {\n        \"dtype\": \"number\",\n        \"std\": 0.3260054197106568,\n        \"min\": 0.0,\n        \"max\": 1.0,\n        \"num_unique_values\": 2,\n        \"samples\": [\n          1.0,\n          0.0\n        ],\n        \"semantic_type\": \"\",\n        \"description\": \"\"\n      }\n    }\n  ]\n}"
            }
          },
          "metadata": {},
          "execution_count": 46
        }
      ]
    },
    {
      "cell_type": "markdown",
      "source": [
        "Menghapus kolom Provinsi"
      ],
      "metadata": {
        "id": "3oSCnG9-Sv7d"
      }
    },
    {
      "cell_type": "code",
      "source": [
        "kemiskinan.drop('Provinsi',axis=1, inplace=True)"
      ],
      "metadata": {
        "id": "KFdycgYyOmz5"
      },
      "execution_count": 47,
      "outputs": []
    },
    {
      "cell_type": "markdown",
      "source": [
        "Menghapus kolom Kab/Kota"
      ],
      "metadata": {
        "id": "0jH2-1oGSzyE"
      }
    },
    {
      "cell_type": "code",
      "source": [
        "kemiskinan.drop('Kab/Kota',axis=1, inplace=True)"
      ],
      "metadata": {
        "id": "qCxeWBQ9OuLf"
      },
      "execution_count": 48,
      "outputs": []
    },
    {
      "cell_type": "markdown",
      "source": [
        "Menampilkan lima baris teratas setelah kolom provinsi dan kab/kota dihapus"
      ],
      "metadata": {
        "id": "8t_CscEQS4SD"
      }
    },
    {
      "cell_type": "code",
      "source": [
        "kemiskinan.head()"
      ],
      "metadata": {
        "colab": {
          "base_uri": "https://localhost:8080/",
          "height": 365
        },
        "id": "WjElKXpwPQLz",
        "outputId": "8919f697-28a8-4d2b-c0ca-e2ca5771382b"
      },
      "execution_count": 49,
      "outputs": [
        {
          "output_type": "execute_result",
          "data": {
            "text/plain": [
              "  Persentase Penduduk Miskin (P0) Menurut Kabupaten/Kota (Persen)  \\\n",
              "0                                              18,98                \n",
              "1                                              20,36                \n",
              "2                                              13,18                \n",
              "3                                              13,41                \n",
              "4                                              14,45                \n",
              "\n",
              "  Rata-rata Lama Sekolah Penduduk 15+ (Tahun)  \\\n",
              "0                                        9,48   \n",
              "1                                        8,68   \n",
              "2                                        8,88   \n",
              "3                                        9,67   \n",
              "4                                        8,21   \n",
              "\n",
              "   Pengeluaran per Kapita Disesuaikan (Ribu Rupiah/Orang/Tahun)  \\\n",
              "0                                             7148.0              \n",
              "1                                             8776.0              \n",
              "2                                             8180.0              \n",
              "3                                             8030.0              \n",
              "4                                             8577.0              \n",
              "\n",
              "  Indeks Pembangunan Manusia Umur Harapan Hidup (Tahun)  \\\n",
              "0                      66,41                      65,28   \n",
              "1                      69,22                      67,43   \n",
              "2                      67,44                       64,4   \n",
              "3                      69,44                      68,22   \n",
              "4                      67,83                      68,74   \n",
              "\n",
              "  Persentase rumah tangga yang memiliki akses terhadap sanitasi layak  \\\n",
              "0                                              71,56                    \n",
              "1                                              69,56                    \n",
              "2                                              62,55                    \n",
              "3                                              62,71                    \n",
              "4                                              66,75                    \n",
              "\n",
              "  Persentase rumah tangga yang memiliki akses terhadap air minum layak  \\\n",
              "0                                              87,45                     \n",
              "1                                              78,58                     \n",
              "2                                              79,65                     \n",
              "3                                              86,71                     \n",
              "4                                              83,16                     \n",
              "\n",
              "  Tingkat Pengangguran Terbuka Tingkat Partisipasi Angkatan Kerja  \\\n",
              "0                         5,71                             71,15    \n",
              "1                         8,36                             62,85    \n",
              "2                         6,46                             60,85    \n",
              "3                         6,43                             69,62    \n",
              "4                         7,13                             59,48    \n",
              "\n",
              "   PDRB atas Dasar Harga Konstan menurut Pengeluaran (Rupiah)  \\\n",
              "0                                          1648096.0            \n",
              "1                                          1780419.0            \n",
              "2                                          4345784.0            \n",
              "3                                          3487157.0            \n",
              "4                                          8433526.0            \n",
              "\n",
              "   Klasifikasi Kemiskinan  \n",
              "0                     0.0  \n",
              "1                     1.0  \n",
              "2                     0.0  \n",
              "3                     0.0  \n",
              "4                     0.0  "
            ],
            "text/html": [
              "\n",
              "  <div id=\"df-f54f4bf0-8f9f-441f-9fc2-f27bf1e1d9bd\" class=\"colab-df-container\">\n",
              "    <div>\n",
              "<style scoped>\n",
              "    .dataframe tbody tr th:only-of-type {\n",
              "        vertical-align: middle;\n",
              "    }\n",
              "\n",
              "    .dataframe tbody tr th {\n",
              "        vertical-align: top;\n",
              "    }\n",
              "\n",
              "    .dataframe thead th {\n",
              "        text-align: right;\n",
              "    }\n",
              "</style>\n",
              "<table border=\"1\" class=\"dataframe\">\n",
              "  <thead>\n",
              "    <tr style=\"text-align: right;\">\n",
              "      <th></th>\n",
              "      <th>Persentase Penduduk Miskin (P0) Menurut Kabupaten/Kota (Persen)</th>\n",
              "      <th>Rata-rata Lama Sekolah Penduduk 15+ (Tahun)</th>\n",
              "      <th>Pengeluaran per Kapita Disesuaikan (Ribu Rupiah/Orang/Tahun)</th>\n",
              "      <th>Indeks Pembangunan Manusia</th>\n",
              "      <th>Umur Harapan Hidup (Tahun)</th>\n",
              "      <th>Persentase rumah tangga yang memiliki akses terhadap sanitasi layak</th>\n",
              "      <th>Persentase rumah tangga yang memiliki akses terhadap air minum layak</th>\n",
              "      <th>Tingkat Pengangguran Terbuka</th>\n",
              "      <th>Tingkat Partisipasi Angkatan Kerja</th>\n",
              "      <th>PDRB atas Dasar Harga Konstan menurut Pengeluaran (Rupiah)</th>\n",
              "      <th>Klasifikasi Kemiskinan</th>\n",
              "    </tr>\n",
              "  </thead>\n",
              "  <tbody>\n",
              "    <tr>\n",
              "      <th>0</th>\n",
              "      <td>18,98</td>\n",
              "      <td>9,48</td>\n",
              "      <td>7148.0</td>\n",
              "      <td>66,41</td>\n",
              "      <td>65,28</td>\n",
              "      <td>71,56</td>\n",
              "      <td>87,45</td>\n",
              "      <td>5,71</td>\n",
              "      <td>71,15</td>\n",
              "      <td>1648096.0</td>\n",
              "      <td>0.0</td>\n",
              "    </tr>\n",
              "    <tr>\n",
              "      <th>1</th>\n",
              "      <td>20,36</td>\n",
              "      <td>8,68</td>\n",
              "      <td>8776.0</td>\n",
              "      <td>69,22</td>\n",
              "      <td>67,43</td>\n",
              "      <td>69,56</td>\n",
              "      <td>78,58</td>\n",
              "      <td>8,36</td>\n",
              "      <td>62,85</td>\n",
              "      <td>1780419.0</td>\n",
              "      <td>1.0</td>\n",
              "    </tr>\n",
              "    <tr>\n",
              "      <th>2</th>\n",
              "      <td>13,18</td>\n",
              "      <td>8,88</td>\n",
              "      <td>8180.0</td>\n",
              "      <td>67,44</td>\n",
              "      <td>64,4</td>\n",
              "      <td>62,55</td>\n",
              "      <td>79,65</td>\n",
              "      <td>6,46</td>\n",
              "      <td>60,85</td>\n",
              "      <td>4345784.0</td>\n",
              "      <td>0.0</td>\n",
              "    </tr>\n",
              "    <tr>\n",
              "      <th>3</th>\n",
              "      <td>13,41</td>\n",
              "      <td>9,67</td>\n",
              "      <td>8030.0</td>\n",
              "      <td>69,44</td>\n",
              "      <td>68,22</td>\n",
              "      <td>62,71</td>\n",
              "      <td>86,71</td>\n",
              "      <td>6,43</td>\n",
              "      <td>69,62</td>\n",
              "      <td>3487157.0</td>\n",
              "      <td>0.0</td>\n",
              "    </tr>\n",
              "    <tr>\n",
              "      <th>4</th>\n",
              "      <td>14,45</td>\n",
              "      <td>8,21</td>\n",
              "      <td>8577.0</td>\n",
              "      <td>67,83</td>\n",
              "      <td>68,74</td>\n",
              "      <td>66,75</td>\n",
              "      <td>83,16</td>\n",
              "      <td>7,13</td>\n",
              "      <td>59,48</td>\n",
              "      <td>8433526.0</td>\n",
              "      <td>0.0</td>\n",
              "    </tr>\n",
              "  </tbody>\n",
              "</table>\n",
              "</div>\n",
              "    <div class=\"colab-df-buttons\">\n",
              "\n",
              "  <div class=\"colab-df-container\">\n",
              "    <button class=\"colab-df-convert\" onclick=\"convertToInteractive('df-f54f4bf0-8f9f-441f-9fc2-f27bf1e1d9bd')\"\n",
              "            title=\"Convert this dataframe to an interactive table.\"\n",
              "            style=\"display:none;\">\n",
              "\n",
              "  <svg xmlns=\"http://www.w3.org/2000/svg\" height=\"24px\" viewBox=\"0 -960 960 960\">\n",
              "    <path d=\"M120-120v-720h720v720H120Zm60-500h600v-160H180v160Zm220 220h160v-160H400v160Zm0 220h160v-160H400v160ZM180-400h160v-160H180v160Zm440 0h160v-160H620v160ZM180-180h160v-160H180v160Zm440 0h160v-160H620v160Z\"/>\n",
              "  </svg>\n",
              "    </button>\n",
              "\n",
              "  <style>\n",
              "    .colab-df-container {\n",
              "      display:flex;\n",
              "      gap: 12px;\n",
              "    }\n",
              "\n",
              "    .colab-df-convert {\n",
              "      background-color: #E8F0FE;\n",
              "      border: none;\n",
              "      border-radius: 50%;\n",
              "      cursor: pointer;\n",
              "      display: none;\n",
              "      fill: #1967D2;\n",
              "      height: 32px;\n",
              "      padding: 0 0 0 0;\n",
              "      width: 32px;\n",
              "    }\n",
              "\n",
              "    .colab-df-convert:hover {\n",
              "      background-color: #E2EBFA;\n",
              "      box-shadow: 0px 1px 2px rgba(60, 64, 67, 0.3), 0px 1px 3px 1px rgba(60, 64, 67, 0.15);\n",
              "      fill: #174EA6;\n",
              "    }\n",
              "\n",
              "    .colab-df-buttons div {\n",
              "      margin-bottom: 4px;\n",
              "    }\n",
              "\n",
              "    [theme=dark] .colab-df-convert {\n",
              "      background-color: #3B4455;\n",
              "      fill: #D2E3FC;\n",
              "    }\n",
              "\n",
              "    [theme=dark] .colab-df-convert:hover {\n",
              "      background-color: #434B5C;\n",
              "      box-shadow: 0px 1px 3px 1px rgba(0, 0, 0, 0.15);\n",
              "      filter: drop-shadow(0px 1px 2px rgba(0, 0, 0, 0.3));\n",
              "      fill: #FFFFFF;\n",
              "    }\n",
              "  </style>\n",
              "\n",
              "    <script>\n",
              "      const buttonEl =\n",
              "        document.querySelector('#df-f54f4bf0-8f9f-441f-9fc2-f27bf1e1d9bd button.colab-df-convert');\n",
              "      buttonEl.style.display =\n",
              "        google.colab.kernel.accessAllowed ? 'block' : 'none';\n",
              "\n",
              "      async function convertToInteractive(key) {\n",
              "        const element = document.querySelector('#df-f54f4bf0-8f9f-441f-9fc2-f27bf1e1d9bd');\n",
              "        const dataTable =\n",
              "          await google.colab.kernel.invokeFunction('convertToInteractive',\n",
              "                                                    [key], {});\n",
              "        if (!dataTable) return;\n",
              "\n",
              "        const docLinkHtml = 'Like what you see? Visit the ' +\n",
              "          '<a target=\"_blank\" href=https://colab.research.google.com/notebooks/data_table.ipynb>data table notebook</a>'\n",
              "          + ' to learn more about interactive tables.';\n",
              "        element.innerHTML = '';\n",
              "        dataTable['output_type'] = 'display_data';\n",
              "        await google.colab.output.renderOutput(dataTable, element);\n",
              "        const docLink = document.createElement('div');\n",
              "        docLink.innerHTML = docLinkHtml;\n",
              "        element.appendChild(docLink);\n",
              "      }\n",
              "    </script>\n",
              "  </div>\n",
              "\n",
              "\n",
              "<div id=\"df-7c80bc48-2230-4bfd-b2c3-c462619dbcba\">\n",
              "  <button class=\"colab-df-quickchart\" onclick=\"quickchart('df-7c80bc48-2230-4bfd-b2c3-c462619dbcba')\"\n",
              "            title=\"Suggest charts\"\n",
              "            style=\"display:none;\">\n",
              "\n",
              "<svg xmlns=\"http://www.w3.org/2000/svg\" height=\"24px\"viewBox=\"0 0 24 24\"\n",
              "     width=\"24px\">\n",
              "    <g>\n",
              "        <path d=\"M19 3H5c-1.1 0-2 .9-2 2v14c0 1.1.9 2 2 2h14c1.1 0 2-.9 2-2V5c0-1.1-.9-2-2-2zM9 17H7v-7h2v7zm4 0h-2V7h2v10zm4 0h-2v-4h2v4z\"/>\n",
              "    </g>\n",
              "</svg>\n",
              "  </button>\n",
              "\n",
              "<style>\n",
              "  .colab-df-quickchart {\n",
              "      --bg-color: #E8F0FE;\n",
              "      --fill-color: #1967D2;\n",
              "      --hover-bg-color: #E2EBFA;\n",
              "      --hover-fill-color: #174EA6;\n",
              "      --disabled-fill-color: #AAA;\n",
              "      --disabled-bg-color: #DDD;\n",
              "  }\n",
              "\n",
              "  [theme=dark] .colab-df-quickchart {\n",
              "      --bg-color: #3B4455;\n",
              "      --fill-color: #D2E3FC;\n",
              "      --hover-bg-color: #434B5C;\n",
              "      --hover-fill-color: #FFFFFF;\n",
              "      --disabled-bg-color: #3B4455;\n",
              "      --disabled-fill-color: #666;\n",
              "  }\n",
              "\n",
              "  .colab-df-quickchart {\n",
              "    background-color: var(--bg-color);\n",
              "    border: none;\n",
              "    border-radius: 50%;\n",
              "    cursor: pointer;\n",
              "    display: none;\n",
              "    fill: var(--fill-color);\n",
              "    height: 32px;\n",
              "    padding: 0;\n",
              "    width: 32px;\n",
              "  }\n",
              "\n",
              "  .colab-df-quickchart:hover {\n",
              "    background-color: var(--hover-bg-color);\n",
              "    box-shadow: 0 1px 2px rgba(60, 64, 67, 0.3), 0 1px 3px 1px rgba(60, 64, 67, 0.15);\n",
              "    fill: var(--button-hover-fill-color);\n",
              "  }\n",
              "\n",
              "  .colab-df-quickchart-complete:disabled,\n",
              "  .colab-df-quickchart-complete:disabled:hover {\n",
              "    background-color: var(--disabled-bg-color);\n",
              "    fill: var(--disabled-fill-color);\n",
              "    box-shadow: none;\n",
              "  }\n",
              "\n",
              "  .colab-df-spinner {\n",
              "    border: 2px solid var(--fill-color);\n",
              "    border-color: transparent;\n",
              "    border-bottom-color: var(--fill-color);\n",
              "    animation:\n",
              "      spin 1s steps(1) infinite;\n",
              "  }\n",
              "\n",
              "  @keyframes spin {\n",
              "    0% {\n",
              "      border-color: transparent;\n",
              "      border-bottom-color: var(--fill-color);\n",
              "      border-left-color: var(--fill-color);\n",
              "    }\n",
              "    20% {\n",
              "      border-color: transparent;\n",
              "      border-left-color: var(--fill-color);\n",
              "      border-top-color: var(--fill-color);\n",
              "    }\n",
              "    30% {\n",
              "      border-color: transparent;\n",
              "      border-left-color: var(--fill-color);\n",
              "      border-top-color: var(--fill-color);\n",
              "      border-right-color: var(--fill-color);\n",
              "    }\n",
              "    40% {\n",
              "      border-color: transparent;\n",
              "      border-right-color: var(--fill-color);\n",
              "      border-top-color: var(--fill-color);\n",
              "    }\n",
              "    60% {\n",
              "      border-color: transparent;\n",
              "      border-right-color: var(--fill-color);\n",
              "    }\n",
              "    80% {\n",
              "      border-color: transparent;\n",
              "      border-right-color: var(--fill-color);\n",
              "      border-bottom-color: var(--fill-color);\n",
              "    }\n",
              "    90% {\n",
              "      border-color: transparent;\n",
              "      border-bottom-color: var(--fill-color);\n",
              "    }\n",
              "  }\n",
              "</style>\n",
              "\n",
              "  <script>\n",
              "    async function quickchart(key) {\n",
              "      const quickchartButtonEl =\n",
              "        document.querySelector('#' + key + ' button');\n",
              "      quickchartButtonEl.disabled = true;  // To prevent multiple clicks.\n",
              "      quickchartButtonEl.classList.add('colab-df-spinner');\n",
              "      try {\n",
              "        const charts = await google.colab.kernel.invokeFunction(\n",
              "            'suggestCharts', [key], {});\n",
              "      } catch (error) {\n",
              "        console.error('Error during call to suggestCharts:', error);\n",
              "      }\n",
              "      quickchartButtonEl.classList.remove('colab-df-spinner');\n",
              "      quickchartButtonEl.classList.add('colab-df-quickchart-complete');\n",
              "    }\n",
              "    (() => {\n",
              "      let quickchartButtonEl =\n",
              "        document.querySelector('#df-7c80bc48-2230-4bfd-b2c3-c462619dbcba button');\n",
              "      quickchartButtonEl.style.display =\n",
              "        google.colab.kernel.accessAllowed ? 'block' : 'none';\n",
              "    })();\n",
              "  </script>\n",
              "</div>\n",
              "    </div>\n",
              "  </div>\n"
            ],
            "application/vnd.google.colaboratory.intrinsic+json": {
              "type": "dataframe",
              "variable_name": "kemiskinan",
              "summary": "{\n  \"name\": \"kemiskinan\",\n  \"rows\": 999,\n  \"fields\": [\n    {\n      \"column\": \"Persentase Penduduk Miskin (P0) Menurut Kabupaten/Kota (Persen)\",\n      \"properties\": {\n        \"dtype\": \"category\",\n        \"num_unique_values\": 452,\n        \"samples\": [\n          \"5,91\",\n          \"8,3\",\n          \"12,85\"\n        ],\n        \"semantic_type\": \"\",\n        \"description\": \"\"\n      }\n    },\n    {\n      \"column\": \"Rata-rata Lama Sekolah Penduduk 15+ (Tahun)\",\n      \"properties\": {\n        \"dtype\": \"category\",\n        \"num_unique_values\": 377,\n        \"samples\": [\n          \"10,91\",\n          \"7,12\",\n          \"6,02\"\n        ],\n        \"semantic_type\": \"\",\n        \"description\": \"\"\n      }\n    },\n    {\n      \"column\": \"Pengeluaran per Kapita Disesuaikan (Ribu Rupiah/Orang/Tahun)\",\n      \"properties\": {\n        \"dtype\": \"number\",\n        \"std\": 2717.144185738408,\n        \"min\": 3976.0,\n        \"max\": 23888.0,\n        \"num_unique_values\": 498,\n        \"samples\": [\n          5708.0,\n          13317.0,\n          9410.0\n        ],\n        \"semantic_type\": \"\",\n        \"description\": \"\"\n      }\n    },\n    {\n      \"column\": \"Indeks Pembangunan Manusia\",\n      \"properties\": {\n        \"dtype\": \"category\",\n        \"num_unique_values\": 452,\n        \"samples\": [\n          \"65,87\",\n          \"70,83\",\n          \"80,59\"\n        ],\n        \"semantic_type\": \"\",\n        \"description\": \"\"\n      }\n    },\n    {\n      \"column\": \"Umur Harapan Hidup (Tahun)\",\n      \"properties\": {\n        \"dtype\": \"category\",\n        \"num_unique_values\": 411,\n        \"samples\": [\n          \"73,8\",\n          \"71,58\",\n          \"70,38\"\n        ],\n        \"semantic_type\": \"\",\n        \"description\": \"\"\n      }\n    },\n    {\n      \"column\": \"Persentase rumah tangga yang memiliki akses terhadap sanitasi layak\",\n      \"properties\": {\n        \"dtype\": \"category\",\n        \"num_unique_values\": 487,\n        \"samples\": [\n          \"89,49\",\n          \"91,56\",\n          \"90,56\"\n        ],\n        \"semantic_type\": \"\",\n        \"description\": \"\"\n      }\n    },\n    {\n      \"column\": \"Persentase rumah tangga yang memiliki akses terhadap air minum layak\",\n      \"properties\": {\n        \"dtype\": \"category\",\n        \"num_unique_values\": 465,\n        \"samples\": [\n          \"74,11\",\n          \"85,78\",\n          \"91,43\"\n        ],\n        \"semantic_type\": \"\",\n        \"description\": \"\"\n      }\n    },\n    {\n      \"column\": \"Tingkat Pengangguran Terbuka\",\n      \"properties\": {\n        \"dtype\": \"category\",\n        \"num_unique_values\": 373,\n        \"samples\": [\n          \"4,56\",\n          \"1,95\",\n          \"3,47\"\n        ],\n        \"semantic_type\": \"\",\n        \"description\": \"\"\n      }\n    },\n    {\n      \"column\": \"Tingkat Partisipasi Angkatan Kerja\",\n      \"properties\": {\n        \"dtype\": \"object\",\n        \"num_unique_values\": 448,\n        \"samples\": [\n          \" 77,57 \",\n          \" 70,16 \",\n          \" 70,13 \"\n        ],\n        \"semantic_type\": \"\",\n        \"description\": \"\"\n      }\n    },\n    {\n      \"column\": \"PDRB atas Dasar Harga Konstan menurut Pengeluaran (Rupiah)\",\n      \"properties\": {\n        \"dtype\": \"number\",\n        \"std\": 47904920.44381926,\n        \"min\": 147485.0,\n        \"max\": 460081046.0,\n        \"num_unique_values\": 514,\n        \"samples\": [\n          3025880.0,\n          1556231.0,\n          9082312.0\n        ],\n        \"semantic_type\": \"\",\n        \"description\": \"\"\n      }\n    },\n    {\n      \"column\": \"Klasifikasi Kemiskinan\",\n      \"properties\": {\n        \"dtype\": \"number\",\n        \"std\": 0.3260054197106568,\n        \"min\": 0.0,\n        \"max\": 1.0,\n        \"num_unique_values\": 2,\n        \"samples\": [\n          1.0,\n          0.0\n        ],\n        \"semantic_type\": \"\",\n        \"description\": \"\"\n      }\n    }\n  ]\n}"
            }
          },
          "metadata": {},
          "execution_count": 49
        }
      ]
    },
    {
      "cell_type": "markdown",
      "source": [
        "Perintah tersebut menggunakan LabelEncoder untuk mengubah nilai-nilai dalam setiap kolom dari kemiskinan menjadi nilai-nilai yang berurutan."
      ],
      "metadata": {
        "id": "q-4wTNxRTHfH"
      }
    },
    {
      "cell_type": "code",
      "source": [
        "from sklearn.preprocessing import LabelEncoder\n",
        "for attribute in kemiskinan.columns:\n",
        "   kemiskinan[attribute] = LabelEncoder().fit_transform(kemiskinan[attribute])"
      ],
      "metadata": {
        "id": "j0HVXrd4FYpL"
      },
      "execution_count": 50,
      "outputs": []
    },
    {
      "cell_type": "markdown",
      "source": [
        "\n",
        "Memisahkan yang mana termasuk atribut dan mana yang termasuk variabel , dimana apabila persentase penduduk miskin di suatu daerah lebih dari 20% maka nilai variabel akan 1, jika tidak  maka nilai variabel akan 0."
      ],
      "metadata": {
        "id": "PBmEhlUGTOtk"
      }
    },
    {
      "cell_type": "code",
      "source": [
        "features = ['Rata-rata Lama Sekolah Penduduk 15+ (Tahun)',\n",
        "            'Pengeluaran per Kapita Disesuaikan (Ribu Rupiah/Orang/Tahun)',\n",
        "            'Indeks Pembangunan Manusia',\n",
        "            'Umur Harapan Hidup (Tahun)',\n",
        "            'Persentase rumah tangga yang memiliki akses terhadap sanitasi layak',\n",
        "            'Persentase rumah tangga yang memiliki akses terhadap air minum layak',\n",
        "            'Tingkat Pengangguran Terbuka',\n",
        "            'Tingkat Partisipasi Angkatan Kerja',\n",
        "            'PDRB atas Dasar Harga Konstan menurut Pengeluaran (Rupiah)']\n",
        "\n",
        "target_column = 'Persentase Penduduk Miskin (P0) Menurut Kabupaten/Kota (Persen)'\n",
        "target = (kemiskinan[target_column] > 20).astype(int)  # Binary classification: 1 if > 20, 0 otherwise\n"
      ],
      "metadata": {
        "id": "G_WWEE2qGOC4"
      },
      "execution_count": 51,
      "outputs": []
    },
    {
      "cell_type": "markdown",
      "source": [
        "Membagi dataset menjadi data latih dan data uji"
      ],
      "metadata": {
        "id": "DPR4wPUqUCvB"
      }
    },
    {
      "cell_type": "code",
      "source": [
        "from sklearn.model_selection import train_test_split\n",
        "train_X, val_X, train_Y, val_Y = train_test_split(kemiskinan[features], target, random_state=0)"
      ],
      "metadata": {
        "id": "uZ9sLDtVGvCS"
      },
      "execution_count": 52,
      "outputs": []
    },
    {
      "cell_type": "markdown",
      "source": [
        "Membuat model decision tree dan melatih model menggunakan data latih dengan fungsi fit"
      ],
      "metadata": {
        "id": "eeJZazhzUII0"
      }
    },
    {
      "cell_type": "code",
      "source": [
        "from sklearn.tree import DecisionTreeClassifier\n",
        "tree_model = DecisionTreeClassifier()\n",
        "tree_model.fit(train_X, train_Y)"
      ],
      "metadata": {
        "colab": {
          "base_uri": "https://localhost:8080/",
          "height": 75
        },
        "id": "8Dp66Y8YH8Fu",
        "outputId": "086bcd99-e4bf-4605-8731-63c0716830c4"
      },
      "execution_count": 53,
      "outputs": [
        {
          "output_type": "execute_result",
          "data": {
            "text/plain": [
              "DecisionTreeClassifier()"
            ],
            "text/html": [
              "<style>#sk-container-id-2 {color: black;background-color: white;}#sk-container-id-2 pre{padding: 0;}#sk-container-id-2 div.sk-toggleable {background-color: white;}#sk-container-id-2 label.sk-toggleable__label {cursor: pointer;display: block;width: 100%;margin-bottom: 0;padding: 0.3em;box-sizing: border-box;text-align: center;}#sk-container-id-2 label.sk-toggleable__label-arrow:before {content: \"▸\";float: left;margin-right: 0.25em;color: #696969;}#sk-container-id-2 label.sk-toggleable__label-arrow:hover:before {color: black;}#sk-container-id-2 div.sk-estimator:hover label.sk-toggleable__label-arrow:before {color: black;}#sk-container-id-2 div.sk-toggleable__content {max-height: 0;max-width: 0;overflow: hidden;text-align: left;background-color: #f0f8ff;}#sk-container-id-2 div.sk-toggleable__content pre {margin: 0.2em;color: black;border-radius: 0.25em;background-color: #f0f8ff;}#sk-container-id-2 input.sk-toggleable__control:checked~div.sk-toggleable__content {max-height: 200px;max-width: 100%;overflow: auto;}#sk-container-id-2 input.sk-toggleable__control:checked~label.sk-toggleable__label-arrow:before {content: \"▾\";}#sk-container-id-2 div.sk-estimator input.sk-toggleable__control:checked~label.sk-toggleable__label {background-color: #d4ebff;}#sk-container-id-2 div.sk-label input.sk-toggleable__control:checked~label.sk-toggleable__label {background-color: #d4ebff;}#sk-container-id-2 input.sk-hidden--visually {border: 0;clip: rect(1px 1px 1px 1px);clip: rect(1px, 1px, 1px, 1px);height: 1px;margin: -1px;overflow: hidden;padding: 0;position: absolute;width: 1px;}#sk-container-id-2 div.sk-estimator {font-family: monospace;background-color: #f0f8ff;border: 1px dotted black;border-radius: 0.25em;box-sizing: border-box;margin-bottom: 0.5em;}#sk-container-id-2 div.sk-estimator:hover {background-color: #d4ebff;}#sk-container-id-2 div.sk-parallel-item::after {content: \"\";width: 100%;border-bottom: 1px solid gray;flex-grow: 1;}#sk-container-id-2 div.sk-label:hover label.sk-toggleable__label {background-color: #d4ebff;}#sk-container-id-2 div.sk-serial::before {content: \"\";position: absolute;border-left: 1px solid gray;box-sizing: border-box;top: 0;bottom: 0;left: 50%;z-index: 0;}#sk-container-id-2 div.sk-serial {display: flex;flex-direction: column;align-items: center;background-color: white;padding-right: 0.2em;padding-left: 0.2em;position: relative;}#sk-container-id-2 div.sk-item {position: relative;z-index: 1;}#sk-container-id-2 div.sk-parallel {display: flex;align-items: stretch;justify-content: center;background-color: white;position: relative;}#sk-container-id-2 div.sk-item::before, #sk-container-id-2 div.sk-parallel-item::before {content: \"\";position: absolute;border-left: 1px solid gray;box-sizing: border-box;top: 0;bottom: 0;left: 50%;z-index: -1;}#sk-container-id-2 div.sk-parallel-item {display: flex;flex-direction: column;z-index: 1;position: relative;background-color: white;}#sk-container-id-2 div.sk-parallel-item:first-child::after {align-self: flex-end;width: 50%;}#sk-container-id-2 div.sk-parallel-item:last-child::after {align-self: flex-start;width: 50%;}#sk-container-id-2 div.sk-parallel-item:only-child::after {width: 0;}#sk-container-id-2 div.sk-dashed-wrapped {border: 1px dashed gray;margin: 0 0.4em 0.5em 0.4em;box-sizing: border-box;padding-bottom: 0.4em;background-color: white;}#sk-container-id-2 div.sk-label label {font-family: monospace;font-weight: bold;display: inline-block;line-height: 1.2em;}#sk-container-id-2 div.sk-label-container {text-align: center;}#sk-container-id-2 div.sk-container {/* jupyter's `normalize.less` sets `[hidden] { display: none; }` but bootstrap.min.css set `[hidden] { display: none !important; }` so we also need the `!important` here to be able to override the default hidden behavior on the sphinx rendered scikit-learn.org. See: https://github.com/scikit-learn/scikit-learn/issues/21755 */display: inline-block !important;position: relative;}#sk-container-id-2 div.sk-text-repr-fallback {display: none;}</style><div id=\"sk-container-id-2\" class=\"sk-top-container\"><div class=\"sk-text-repr-fallback\"><pre>DecisionTreeClassifier()</pre><b>In a Jupyter environment, please rerun this cell to show the HTML representation or trust the notebook. <br />On GitHub, the HTML representation is unable to render, please try loading this page with nbviewer.org.</b></div><div class=\"sk-container\" hidden><div class=\"sk-item\"><div class=\"sk-estimator sk-toggleable\"><input class=\"sk-toggleable__control sk-hidden--visually\" id=\"sk-estimator-id-2\" type=\"checkbox\" checked><label for=\"sk-estimator-id-2\" class=\"sk-toggleable__label sk-toggleable__label-arrow\">DecisionTreeClassifier</label><div class=\"sk-toggleable__content\"><pre>DecisionTreeClassifier()</pre></div></div></div></div></div>"
            ]
          },
          "metadata": {},
          "execution_count": 53
        }
      ]
    },
    {
      "cell_type": "markdown",
      "source": [
        "Evaluasi model untuk meguji seberapa baik model yang digunakan dan akurasi menggunakan fungsi *accuracy_score*"
      ],
      "metadata": {
        "id": "t8TvhmrJURtB"
      }
    },
    {
      "cell_type": "code",
      "source": [
        "from sklearn.metrics import accuracy_score\n",
        "\n",
        "y_pred = tree_model.predict(val_X)\n",
        "accuracy = accuracy_score(val_Y, y_pred)\n",
        "print('Accuracy:', accuracy)\n"
      ],
      "metadata": {
        "colab": {
          "base_uri": "https://localhost:8080/"
        },
        "id": "Vx6M9v5LJJ3P",
        "outputId": "39a4a4db-f7e7-4b8a-b8f8-ad526a39cee9"
      },
      "execution_count": 54,
      "outputs": [
        {
          "output_type": "stream",
          "name": "stdout",
          "text": [
            "Accuracy: 0.944\n"
          ]
        }
      ]
    },
    {
      "cell_type": "code",
      "source": [
        "#prediksi model dengna tree model yang sdh dibuat dengan varibel features = ['Rata-rata Lama Sekolah Penduduk 15+ (Tahun)',\n",
        "            # 'Pengeluaran per Kapita Disesuaikan (Ribu Rupiah/Orang/Tahun)',\n",
        "            # 'Indeks Pembangunan Manusia',\n",
        "            # 'Umur Harapan Hidup (Tahun)',\n",
        "            # 'Persentase rumah tangga yang memiliki akses terhadap sanitasi layak',\n",
        "            # 'Persentase rumah tangga yang memiliki akses terhadap air minum layak',\n",
        "            # 'Tingkat Pengangguran Terbuka',\n",
        "            # 'Tingkat Partisipasi Angkatan Kerja',\n",
        "            # 'PDRB atas Dasar Harga Konstan menurut Pengeluaran (Rupiah)']\n",
        "\n",
        "print(tree_model.predict([[8,8,9844,67,70,81,83,76,89]])[0])"
      ],
      "metadata": {
        "colab": {
          "base_uri": "https://localhost:8080/"
        },
        "id": "55E3XpV8LYTG",
        "outputId": "9116ce66-7053-4b4e-ec08-1dbaa67dbbd1"
      },
      "execution_count": 55,
      "outputs": [
        {
          "output_type": "stream",
          "name": "stdout",
          "text": [
            "1\n"
          ]
        },
        {
          "output_type": "stream",
          "name": "stderr",
          "text": [
            "/usr/local/lib/python3.10/dist-packages/sklearn/base.py:439: UserWarning: X does not have valid feature names, but DecisionTreeClassifier was fitted with feature names\n",
            "  warnings.warn(\n"
          ]
        }
      ]
    },
    {
      "cell_type": "markdown",
      "source": [
        "Prediksi model dengan tree model yang sdh dibuat dengan atribut yang sdh ditetapkan dan nilai yang dimasukan tidak terdapat didalam data set"
      ],
      "metadata": {
        "id": "AIGCIKAYUZtz"
      }
    },
    {
      "cell_type": "code",
      "source": [
        "print(tree_model.predict([[9.20, 9861, 70.1, 66.92, 55.10, 89.23, 7.29, 60.35, 7975091]])[0])\n"
      ],
      "metadata": {
        "colab": {
          "base_uri": "https://localhost:8080/"
        },
        "id": "nx3m2nmKMiQS",
        "outputId": "621d1e32-f4b2-4f4f-ed8b-fb2209a49175"
      },
      "execution_count": 56,
      "outputs": [
        {
          "output_type": "stream",
          "name": "stdout",
          "text": [
            "1\n"
          ]
        },
        {
          "output_type": "stream",
          "name": "stderr",
          "text": [
            "/usr/local/lib/python3.10/dist-packages/sklearn/base.py:439: UserWarning: X does not have valid feature names, but DecisionTreeClassifier was fitted with feature names\n",
            "  warnings.warn(\n"
          ]
        }
      ]
    },
    {
      "cell_type": "markdown",
      "source": [
        "Melihat visualisasi Decision Tree menggunakan fungsi *export_grahviz*"
      ],
      "metadata": {
        "id": "MZaqY-bhUjez"
      }
    },
    {
      "cell_type": "code",
      "source": [
        "from sklearn.tree import export_graphviz\n",
        "\n",
        "export_graphviz(tree_model,\n",
        "                out_file=\"decision_tree.dot\",\n",
        "                feature_names=features,\n",
        "                class_names=['<=20%', '>20%'],\n",
        "                rounded=True,\n",
        "                filled=True)\n"
      ],
      "metadata": {
        "id": "RkQBqeJHQSwz"
      },
      "execution_count": 62,
      "outputs": []
    },
    {
      "cell_type": "markdown",
      "source": [],
      "metadata": {
        "id": "YFngpYDgQsFm"
      }
    },
    {
      "cell_type": "markdown",
      "source": [],
      "metadata": {
        "id": "L1UqC4drORSR"
      }
    }
  ]
}